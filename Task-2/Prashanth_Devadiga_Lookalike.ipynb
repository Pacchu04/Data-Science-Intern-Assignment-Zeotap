{
  "nbformat": 4,
  "nbformat_minor": 0,
  "metadata": {
    "colab": {
      "provenance": []
    },
    "kernelspec": {
      "name": "python3",
      "display_name": "Python 3"
    },
    "language_info": {
      "name": "python"
    }
  },
  "cells": [
    {
      "cell_type": "markdown",
      "source": [
        "# Task 2: Lookalike Model\n",
        "Build a Lookalike Model that takes a user's information as input and recommends 3 similar\n",
        "customers based on their profile and transaction history. The model should:  \n",
        "● Use both customer and product information.   \n",
        "● Assign a similarity score to each recommended customer."
      ],
      "metadata": {
        "id": "g3_dVGc_gtI6"
      }
    },
    {
      "cell_type": "code",
      "execution_count": 3,
      "metadata": {
        "colab": {
          "base_uri": "https://localhost:8080/"
        },
        "id": "whl3Oe5fU2vV",
        "outputId": "a2b0d3a8-1232-4fa1-8038-64e0051f0ed9"
      },
      "outputs": [
        {
          "output_type": "stream",
          "name": "stdout",
          "text": [
            "Lookalike model completed and saved to Lookalike.csv!\n"
          ]
        }
      ],
      "source": [
        "# Lookalike Model Development for eCommerce Dataset\n",
        "\n",
        "# Import necessary libraries\n",
        "import pandas as pd\n",
        "import numpy as np\n",
        "from sklearn.metrics.pairwise import cosine_similarity\n",
        "from sklearn.preprocessing import StandardScaler\n",
        "\n",
        "# Load datasets\n",
        "customers = pd.read_csv(\"/content/Customers.csv\")\n",
        "products = pd.read_csv(\"/content/Products.csv\")\n",
        "transactions = pd.read_csv(\"/content/Transactions.csv\")\n",
        "\n",
        "# Merge datasets for comprehensive analysis\n",
        "merged_data = transactions.merge(customers, on=\"CustomerID\", how=\"left\").merge(products, on=\"ProductID\", how=\"left\")\n",
        "\n",
        "# Feature engineering\n",
        "# Check for necessary columns\n",
        "if \"Price\" not in merged_data.columns:\n",
        "    merged_data[\"Price\"] = merged_data[\"TotalValue\"] / merged_data[\"Quantity\"]  # Calculate Price if not present\n",
        "\n",
        "# Aggregating transaction data for each customer\n",
        "customer_profiles = merged_data.groupby(\"CustomerID\").agg(\n",
        "    {\n",
        "        \"TotalValue\": \"sum\",  # Total spending\n",
        "        \"Quantity\": \"sum\",    # Total quantity purchased\n",
        "        \"Price\": \"mean\",      # Average price of products purchased\n",
        "        \"Category\": lambda x: x.mode()[0] if len(x.mode()) > 0 else \"Unknown\"  # Most frequent category\n",
        "    }\n",
        ").reset_index()\n",
        "\n",
        "# Encoding categorical data\n",
        "customer_profiles = pd.get_dummies(customer_profiles, columns=[\"Category\"], drop_first=True)\n",
        "\n",
        "# Standardizing numerical features\n",
        "scaler = StandardScaler()\n",
        "numerical_features = [\"TotalValue\", \"Quantity\", \"Price\"]\n",
        "customer_profiles[numerical_features] = scaler.fit_transform(customer_profiles[numerical_features])\n",
        "\n",
        "# Compute similarity matrix\n",
        "similarity_matrix = cosine_similarity(customer_profiles.drop(\"CustomerID\", axis=1))\n",
        "\n",
        "# Generate lookalikes for first 20 customers\n",
        "lookalike_map = {}\n",
        "for idx in range(20):  # First 20 customers (C0001 - C0020)\n",
        "    customer_id = customer_profiles.iloc[idx][\"CustomerID\"]\n",
        "    similarities = list(enumerate(similarity_matrix[idx]))\n",
        "    similarities = sorted(similarities, key=lambda x: x[1], reverse=True)[1:4]  # Top 3 lookalikes\n",
        "    lookalikes = [(customer_profiles.iloc[i][\"CustomerID\"], score) for i, score in similarities]\n",
        "    lookalike_map[customer_id] = lookalikes\n",
        "\n",
        "# Create Lookalike.csv\n",
        "lookalike_list = []\n",
        "for cust_id, lookalikes in lookalike_map.items():\n",
        "    for similar_cust_id, score in lookalikes:\n",
        "        lookalike_list.append({\n",
        "            \"CustomerID\": cust_id,\n",
        "            \"SimilarCustomerID\": similar_cust_id,\n",
        "            \"SimilarityScore\": score\n",
        "        })\n",
        "\n",
        "lookalike_df = pd.DataFrame(lookalike_list)\n",
        "lookalike_df.to_csv(\"Lookalike.csv\", index=False)\n",
        "\n",
        "print(\"Lookalike model completed and saved to Lookalike.csv!\")\n"
      ]
    },
    {
      "cell_type": "code",
      "source": [],
      "metadata": {
        "id": "K0akYR_Jaxt7"
      },
      "execution_count": null,
      "outputs": []
    }
  ]
}